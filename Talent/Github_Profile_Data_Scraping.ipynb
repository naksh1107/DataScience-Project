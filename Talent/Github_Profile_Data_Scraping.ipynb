{
 "cells": [
  {
   "cell_type": "markdown",
   "id": "ff77e589-c589-4ea4-a3e4-435173687784",
   "metadata": {},
   "source": [
    "# GITHUB DATA SCRAPING"
   ]
  },
  {
   "cell_type": "code",
   "execution_count": 1,
   "id": "d3f65d7f-5834-4513-8d42-8f3436538803",
   "metadata": {},
   "outputs": [],
   "source": [
    "import requests\n",
    "import json\n",
    "import matplotlib.pyplot as plt\n",
    "import numpy as np\n",
    "import pandas as pd"
   ]
  },
  {
   "cell_type": "code",
   "execution_count": 4,
   "id": "12112192-1c94-4490-a943-b84b325d6ef6",
   "metadata": {},
   "outputs": [],
   "source": [
    "pd.options.display.max_rows = 9999"
   ]
  },
  {
   "cell_type": "code",
   "execution_count": 22,
   "id": "dea3df1c-6939-43f0-b490-e832b2f2a75e",
   "metadata": {},
   "outputs": [],
   "source": [
    "def get_user_details(username, token):\n",
    "    url = f'https://api.github.com/users/{username}'\n",
    "    headers = {'Authorization': f'token {token}'}\n",
    "    response = requests.get(url, headers=headers)\n",
    "    if response.status_code == 200:\n",
    "        return response.json()\n",
    "    else:\n",
    "        print(f'Error fetching details for {username}: {response.status_code}')\n",
    "        return None\n",
    "\n",
    "def search_github_users(query, token, max_results=1000):\n",
    "    url = 'https://api.github.com/search/users'\n",
    "    headers = {'Authorization': f'token {token}'}\n",
    "    users = []\n",
    "    page = 1\n",
    "    per_page = 100\n",
    "    while True:\n",
    "        params = {\n",
    "            'q': query,\n",
    "            'per_page': per_page,\n",
    "            'page': page,\n",
    "            'sort': 'repositories',\n",
    "            'order': 'desc'\n",
    "        \n",
    "        }\n",
    "        response = requests.get(url, headers=headers, params=params)\n",
    "        if response.status_code != 200:\n",
    "            print(response.status_code)\n",
    "            break\n",
    "        data = response.json()\n",
    "        global total_count\n",
    "        total_count=data[\"total_count\"]\n",
    "        users.extend(data['items'])\n",
    "        if len(data['items']) < per_page or len(users) >= max_results:\n",
    "            break\n",
    "        page += 1\n",
    "    return users\n",
    "\n"
   ]
  },
  {
   "cell_type": "code",
   "execution_count": 26,
   "id": "137b3900-ef76-4ebe-a05b-03d2a4abbca6",
   "metadata": {},
   "outputs": [],
   "source": [
    "def create_Talent_Table(query):\n",
    "    token = 'Enter Your Token'\n",
    "    users = search_github_users(query, token)\n",
    "    Username=[]\n",
    "    URL=[]\n",
    "    Company=[]\n",
    "    Email=[]\n",
    "    HireAble=[]\n",
    "    Public_Repos=[]\n",
    "    Public_Gists=[]\n",
    "    for user in users:\n",
    "        username = user['login']\n",
    "        user_details = get_user_details(username, token)\n",
    "        if user_details:\n",
    "            Username.append(username)\n",
    "            URL.append(user_details['html_url'])\n",
    "            Company.append(user_details.get('company','Not Available'))\n",
    "            Email.append(user_details.get('email','Not available'))\n",
    "            HireAble.append(user_details.get('hireable'))\n",
    "            Public_Repos.append(user_details.get('public_repos'))\n",
    "            Public_Gists.append(user_details.get('public_gists'))\n",
    "            \n",
    "    df = pd.DataFrame({'Username': Username,'Github Link': URL,'Company': Company,'Email':Email,'HireAble' : HireAble,'Public_Repos':Public_Repos,'Public_Gists':Public_Gists}) \n",
    "    return df"
   ]
  },
  {
   "cell_type": "code",
   "execution_count": 45,
   "id": "aad4a1f5-7e5a-4f55-834f-34519331e4a9",
   "metadata": {},
   "outputs": [],
   "source": [
    "query1 = 'language:Python location:Bangalore repos:<9 created:<2019-01-01 followers:<1 type:user'\n",
    "query2 = 'language:Python location:Bangalore repos:<9 created:<2019-01-01 followers:>=1 type:user'\n",
    "query3 = 'language:Python location:Bangalore repos:<9 created:>2019-01-01 followers:<1 type:user'\n",
    "query4 = 'language:Python location:Bangalore repos:<9 created:>2019-01-01 followers:>=1 type:user'\n",
    "query5 = 'language:Python location:Bangalore repos:>=9 created:<2018-01-01 followers:<=1 type:user'\n",
    "query6 = 'language:Python location:Bangalore repos:>=9 created:<2018-01-01 followers:>1 type:user'\n",
    "query7 = 'language:Python location:Bangalore repos:>=9 created:>2018-01-01 followers:<=1 type:user'\n",
    "query8 = 'language:Python location:Bangalore repos:>=9 created:>2018-01-01 followers:>1 type:user'\n",
    "df_blr1=create_Talent_Table(query1)\n",
    "df_blr2=create_Talent_Table(query2)\n",
    "df_blr3=create_Talent_Table(query3)\n",
    "df_blr4=create_Talent_Table(query4)\n",
    "df_blr5=create_Talent_Table(query5)\n",
    "df_blr6=create_Talent_Table(query6)\n",
    "df_blr7=create_Talent_Table(query7)\n",
    "df_blr8=create_Talent_Table(query8)\n",
    "\n",
    "total_blr=total_count\n",
    "df_hyd=create_Talent_Table('Hyderabad')\n",
    "total_hyd=total_count"
   ]
  },
  {
   "cell_type": "code",
   "execution_count": 60,
   "id": "253ba92c-8023-4288-b1ea-3e5cbf183285",
   "metadata": {},
   "outputs": [],
   "source": [
    "query1 = 'language:Python location:Hyderabad repos:<7 created:<2020-01-01 followers:<1 type:user'\n",
    "query2 = 'language:Python location:Hyderabad repos:<7 created:<2020-01-01 followers:>=1 type:user'\n",
    "query3 = 'language:Python location:Hyderabad repos:<7 created:>2020-01-01 followers:<1 type:user'\n",
    "query4 = 'language:Python location:Hyderabad repos:<7 created:>2020-01-01 followers:>=1 type:user'\n",
    "query5 = 'language:Python location:Hyderabad repos:>=7 created:<2019-01-01 followers:<=1 type:user'\n",
    "query6 = 'language:Python location:Hyderabad repos:>=7 created:<2019-01-01 followers:>1 type:user'\n",
    "query7 = 'language:Python location:Hyderabad repos:>=7 created:>2019-01-01 followers:<=1 type:user'\n",
    "query8 = 'language:Python location:Hyderabad repos:>=7 created:>2019-01-01 followers:>1 type:user'\n",
    "df_hyd1=create_Talent_Table(query1)\n",
    "df_hyd2=create_Talent_Table(query2)\n",
    "df_hyd3=create_Talent_Table(query3)\n",
    "df_hyd4=create_Talent_Table(query4)\n",
    "df_hyd5=create_Talent_Table(query5)\n",
    "df_hyd6=create_Talent_Table(query6)\n",
    "df_hyd7=create_Talent_Table(query7)\n",
    "df_hyd8=create_Talent_Table(query8)"
   ]
  },
  {
   "cell_type": "code",
   "execution_count": 72,
   "id": "b06f2495-8a9f-44a8-86d0-cf130be69e47",
   "metadata": {},
   "outputs": [],
   "source": [
    "df_blr = pd.concat([df_blr1, df_blr2, df_blr3, df_blr4, df_blr5, df_blr6, df_blr7, df_blr8], axis=0, ignore_index=True)\n",
    "df_blr = df_blr.drop_duplicates()\n",
    "df_blr = df_blr.sort_values(by='Public_Repos', ascending=False)\n",
    "df_blr.reset_index(drop=True, inplace=True)"
   ]
  },
  {
   "cell_type": "code",
   "execution_count": 73,
   "id": "eebd02f9-40df-4814-957a-ce2a29c3cd07",
   "metadata": {},
   "outputs": [],
   "source": [
    "df_hyd = pd.concat([df_hyd1, df_hyd2, df_hyd3, df_hyd4, df_hyd5, df_hyd6, df_hyd7, df_hyd8], axis=0, ignore_index=True)\n",
    "df_hyd = df_hyd.drop_duplicates()\n",
    "df_hyd = df_hyd.sort_values(by='Public_Repos', ascending=False)\n",
    "df_hyd.reset_index(drop=True, inplace=True)"
   ]
  },
  {
   "cell_type": "code",
   "execution_count": 76,
   "id": "c876e1a4-33b7-40db-b157-eabfca408b04",
   "metadata": {},
   "outputs": [],
   "source": [
    "def scrape_Github_Bangalore_To_Excel(writer,df)  :\n",
    "    df.to_excel(writer,sheet_name='Bangalore Python Developers')\n",
    "\n",
    "def scrape_Github_Hyderabad_To_Excel(writer,df)  :\n",
    "    df.to_excel(writer,sheet_name='Hyderabad Python Developers')\n",
    "    \n",
    "with pd.ExcelWriter('Profile_details.xlsx') as writer:\n",
    "    scrape_Github_Bangalore_To_Excel(writer,df_blr)\n",
    "    scrape_Github_Hyderabad_To_Excel(writer,df_hyd)"
   ]
  }
 ],
 "metadata": {
  "kernelspec": {
   "display_name": "Python 3 (ipykernel)",
   "language": "python",
   "name": "python3"
  },
  "language_info": {
   "codemirror_mode": {
    "name": "ipython",
    "version": 3
   },
   "file_extension": ".py",
   "mimetype": "text/x-python",
   "name": "python",
   "nbconvert_exporter": "python",
   "pygments_lexer": "ipython3",
   "version": "3.11.7"
  }
 },
 "nbformat": 4,
 "nbformat_minor": 5
}
