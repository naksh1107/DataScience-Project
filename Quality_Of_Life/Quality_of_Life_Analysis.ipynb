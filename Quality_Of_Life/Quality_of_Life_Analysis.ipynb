{
 "cells": [
  {
   "cell_type": "markdown",
   "id": "178526a4-2f60-4b2b-9935-9b9fdaf5cc19",
   "metadata": {},
   "source": [
    "# Quality of Life Scraping and Analysis"
   ]
  },
  {
   "cell_type": "code",
   "execution_count": 8,
   "id": "8002bebc-55ff-4a31-8a4d-50604c1f02ea",
   "metadata": {},
   "outputs": [],
   "source": [
    "import requests\n",
    "from bs4 import BeautifulSoup\n",
    "import pandas as pd\n",
    "from selenium import webdriver\n",
    "import time\n",
    "from selenium.webdriver.common.keys import Keys\n",
    "from selenium.webdriver.common.by import By\n",
    "from selenium.webdriver.support.wait import WebDriverWait\n",
    "from selenium.webdriver.support import expected_conditions as EC"
   ]
  },
  {
   "cell_type": "code",
   "execution_count": 45,
   "id": "01b65dae-9d2f-43e4-beae-d838743c8971",
   "metadata": {},
   "outputs": [],
   "source": [
    "pd.set_option('display.max_columns', None)  \n",
    "pd.set_option('display.max_colwidth', None)  \n",
    "pd.set_option('display.width', None)         "
   ]
  },
  {
   "cell_type": "code",
   "execution_count": 64,
   "id": "ff5a2dc1-1e4d-49bb-b7fd-23677af7a650",
   "metadata": {},
   "outputs": [],
   "source": [
    "def Numbeo_Costofliving_scrape(url):\n",
    "    driver=webdriver.Chrome()\n",
    "    driver.get(url)\n",
    "    #driver.find_element(By.TAG_NAME,\"body\").send_keys(\"Keys.ESCAPE\");\n",
    "    table=driver.find_element(By.CLASS_NAME,'limit_size_ad_right').get_attribute(\"outerHTML\")\n",
    "    df= pd.read_html(table)[0]\n",
    "    return df\n"
   ]
  },
  {
   "cell_type": "code",
   "execution_count": 65,
   "id": "699e1df6-945c-4367-9958-ddc4d251a623",
   "metadata": {},
   "outputs": [],
   "source": [
    "df=Numbeo_Costofliving_scrape(\"https://www.numbeo.com/cost-of-living/compare_cities.jsp?country1=India&country2=India&city1=Hyderabad&city2=Bangalore&tracking=getDispatchComparison\")\n",
    "df=df.drop(columns=['Unnamed: 1'])"
   ]
  },
  {
   "cell_type": "markdown",
   "id": "835bb8f0-50fe-4945-9123-9b86ad08e08c",
   "metadata": {},
   "source": [
    "## Cost Of Living Comparison Between Hyderabad and Bangalore"
   ]
  },
  {
   "cell_type": "code",
   "execution_count": 53,
   "id": "129f64f1-7655-4d27-94e4-c722809dc426",
   "metadata": {},
   "outputs": [
    {
     "name": "stdout",
     "output_type": "stream",
     "text": [
      "Cost of Living in Bangalore is 13.1% higher than in Hyderabad (without rent)\n",
      "Cost of Living Including Rent in Bangalore is 18.5% higher than in Hyderabad\n",
      "Rent Prices in Bangalore are 41.2% higher than in Hyderabad\n",
      "Restaurant Prices in Bangalore are 11.0% higher than in Hyderabad\n",
      "Groceries Prices in Bangalore are 12.7% higher than in Hyderabad\n",
      "Local Purchasing Power in Bangalore is 12.1% lower than in Hyderabad\n"
     ]
    }
   ],
   "source": [
    "for i in range(len(df)):\n",
    "    print(df.loc[i,'Indices Difference'])"
   ]
  },
  {
   "cell_type": "code",
   "execution_count": 59,
   "id": "228148ca-68a1-434b-9edd-1b7f29158829",
   "metadata": {},
   "outputs": [],
   "source": [
    "def Numbeo_Crime_scrape(url):\n",
    "    driver=webdriver.Chrome()\n",
    "    driver.get(url)\n",
    "    #driver.find_element(By.TAG_NAME,\"body\").send_keys(\"Keys.ESCAPE\");\n",
    "    \n",
    "    global df_crime_index\n",
    "    table=driver.find_element(By.CLASS_NAME,'data_wide_table').get_attribute(\"outerHTML\")\n",
    "    df= pd.read_html(table)[0]\n",
    "    table2=driver.find_element(By.CLASS_NAME,'table_indices').get_attribute(\"outerHTML\")\n",
    "    df_crime_index=pd.read_html(table2)[0]\n",
    "    return df"
   ]
  },
  {
   "cell_type": "code",
   "execution_count": 63,
   "id": "9246e810-6374-4e10-b973-fd7b3cf41459",
   "metadata": {},
   "outputs": [],
   "source": [
    "df_crime_blr=Numbeo_Crime_scrape(\"https://www.numbeo.com/crime/in/Bangalore\")\n"
   ]
  },
  {
   "cell_type": "code",
   "execution_count": 69,
   "id": "30b7916b-ed75-4b2e-8259-1337097c2a0e",
   "metadata": {},
   "outputs": [],
   "source": [
    "df_crime_blr=df_crime_blr.drop(columns=[1])\n",
    "df_crime_blr.rename(columns={0: 'Name',2:'Index',3:'Description'}, inplace=True)\n"
   ]
  },
  {
   "cell_type": "markdown",
   "id": "194eff50-8b88-4fdf-b3a4-8075c6eeef7c",
   "metadata": {},
   "source": [
    "## Bangalore Crime Summary"
   ]
  },
  {
   "cell_type": "code",
   "execution_count": 70,
   "id": "0d15b901-88ed-4e91-b4e3-b5d333249b00",
   "metadata": {},
   "outputs": [
    {
     "data": {
      "text/html": [
       "<div>\n",
       "<style scoped>\n",
       "    .dataframe tbody tr th:only-of-type {\n",
       "        vertical-align: middle;\n",
       "    }\n",
       "\n",
       "    .dataframe tbody tr th {\n",
       "        vertical-align: top;\n",
       "    }\n",
       "\n",
       "    .dataframe thead th {\n",
       "        text-align: right;\n",
       "    }\n",
       "</style>\n",
       "<table border=\"1\" class=\"dataframe\">\n",
       "  <thead>\n",
       "    <tr style=\"text-align: right;\">\n",
       "      <th></th>\n",
       "      <th>Name</th>\n",
       "      <th>Index</th>\n",
       "      <th>Description</th>\n",
       "    </tr>\n",
       "  </thead>\n",
       "  <tbody>\n",
       "    <tr>\n",
       "      <th>0</th>\n",
       "      <td>Level of crime</td>\n",
       "      <td>56.15</td>\n",
       "      <td>Moderate</td>\n",
       "    </tr>\n",
       "    <tr>\n",
       "      <th>1</th>\n",
       "      <td>Crime increasing in the past 5 years</td>\n",
       "      <td>65.53</td>\n",
       "      <td>High</td>\n",
       "    </tr>\n",
       "    <tr>\n",
       "      <th>2</th>\n",
       "      <td>Worries home broken and things stolen</td>\n",
       "      <td>49.44</td>\n",
       "      <td>Moderate</td>\n",
       "    </tr>\n",
       "    <tr>\n",
       "      <th>3</th>\n",
       "      <td>Worries being mugged or robbed</td>\n",
       "      <td>53.88</td>\n",
       "      <td>Moderate</td>\n",
       "    </tr>\n",
       "    <tr>\n",
       "      <th>4</th>\n",
       "      <td>Worries car stolen</td>\n",
       "      <td>48.92</td>\n",
       "      <td>Moderate</td>\n",
       "    </tr>\n",
       "    <tr>\n",
       "      <th>5</th>\n",
       "      <td>Worries things from car stolen</td>\n",
       "      <td>52.46</td>\n",
       "      <td>Moderate</td>\n",
       "    </tr>\n",
       "    <tr>\n",
       "      <th>6</th>\n",
       "      <td>Worries attacked</td>\n",
       "      <td>53.07</td>\n",
       "      <td>Moderate</td>\n",
       "    </tr>\n",
       "    <tr>\n",
       "      <th>7</th>\n",
       "      <td>Worries being insulted</td>\n",
       "      <td>53.23</td>\n",
       "      <td>Moderate</td>\n",
       "    </tr>\n",
       "    <tr>\n",
       "      <th>8</th>\n",
       "      <td>Worries being subject to a physical attack because of your skin color, ethnic origin, gender or religion</td>\n",
       "      <td>43.76</td>\n",
       "      <td>Moderate</td>\n",
       "    </tr>\n",
       "    <tr>\n",
       "      <th>9</th>\n",
       "      <td>Problem people using or dealing drugs</td>\n",
       "      <td>50.00</td>\n",
       "      <td>Moderate</td>\n",
       "    </tr>\n",
       "    <tr>\n",
       "      <th>10</th>\n",
       "      <td>Problem property crimes such as vandalism and theft</td>\n",
       "      <td>56.19</td>\n",
       "      <td>Moderate</td>\n",
       "    </tr>\n",
       "    <tr>\n",
       "      <th>11</th>\n",
       "      <td>Problem violent crimes such as assault and armed robbery</td>\n",
       "      <td>50.79</td>\n",
       "      <td>Moderate</td>\n",
       "    </tr>\n",
       "    <tr>\n",
       "      <th>12</th>\n",
       "      <td>Problem corruption and bribery</td>\n",
       "      <td>80.15</td>\n",
       "      <td>Very High</td>\n",
       "    </tr>\n",
       "  </tbody>\n",
       "</table>\n",
       "</div>"
      ],
      "text/plain": [
       "                                                                                                        Name  \\\n",
       "0                                                                                             Level of crime   \n",
       "1                                                                       Crime increasing in the past 5 years   \n",
       "2                                                                      Worries home broken and things stolen   \n",
       "3                                                                             Worries being mugged or robbed   \n",
       "4                                                                                         Worries car stolen   \n",
       "5                                                                             Worries things from car stolen   \n",
       "6                                                                                           Worries attacked   \n",
       "7                                                                                     Worries being insulted   \n",
       "8   Worries being subject to a physical attack because of your skin color, ethnic origin, gender or religion   \n",
       "9                                                                      Problem people using or dealing drugs   \n",
       "10                                                       Problem property crimes such as vandalism and theft   \n",
       "11                                                  Problem violent crimes such as assault and armed robbery   \n",
       "12                                                                            Problem corruption and bribery   \n",
       "\n",
       "    Index Description  \n",
       "0   56.15    Moderate  \n",
       "1   65.53        High  \n",
       "2   49.44    Moderate  \n",
       "3   53.88    Moderate  \n",
       "4   48.92    Moderate  \n",
       "5   52.46    Moderate  \n",
       "6   53.07    Moderate  \n",
       "7   53.23    Moderate  \n",
       "8   43.76    Moderate  \n",
       "9   50.00    Moderate  \n",
       "10  56.19    Moderate  \n",
       "11  50.79    Moderate  \n",
       "12  80.15   Very High  "
      ]
     },
     "execution_count": 70,
     "metadata": {},
     "output_type": "execute_result"
    }
   ],
   "source": [
    "df_crime_blr"
   ]
  },
  {
   "cell_type": "code",
   "execution_count": 72,
   "id": "168e0274-afcc-4275-a633-485b6d30ed0d",
   "metadata": {},
   "outputs": [],
   "source": [
    "df_crime_index.rename(columns={'Unnamed: 1': 'Index'}, inplace=True)"
   ]
  },
  {
   "cell_type": "markdown",
   "id": "d6a66185-af60-433a-b303-af668621b5af",
   "metadata": {},
   "source": [
    "## Overall Crime Index Bangalore"
   ]
  },
  {
   "cell_type": "code",
   "execution_count": 73,
   "id": "dd3526e5-b43d-45d9-beef-8e93dc5ec16d",
   "metadata": {},
   "outputs": [
    {
     "data": {
      "text/html": [
       "<div>\n",
       "<style scoped>\n",
       "    .dataframe tbody tr th:only-of-type {\n",
       "        vertical-align: middle;\n",
       "    }\n",
       "\n",
       "    .dataframe tbody tr th {\n",
       "        vertical-align: top;\n",
       "    }\n",
       "\n",
       "    .dataframe thead th {\n",
       "        text-align: right;\n",
       "    }\n",
       "</style>\n",
       "<table border=\"1\" class=\"dataframe\">\n",
       "  <thead>\n",
       "    <tr style=\"text-align: right;\">\n",
       "      <th></th>\n",
       "      <th>Index</th>\n",
       "      <th>Index</th>\n",
       "    </tr>\n",
       "  </thead>\n",
       "  <tbody>\n",
       "    <tr>\n",
       "      <th>0</th>\n",
       "      <td>Crime Index:</td>\n",
       "      <td>54.46</td>\n",
       "    </tr>\n",
       "    <tr>\n",
       "      <th>1</th>\n",
       "      <td>Safety Index:</td>\n",
       "      <td>45.54</td>\n",
       "    </tr>\n",
       "  </tbody>\n",
       "</table>\n",
       "</div>"
      ],
      "text/plain": [
       "           Index  Index\n",
       "0   Crime Index:  54.46\n",
       "1  Safety Index:  45.54"
      ]
     },
     "execution_count": 73,
     "metadata": {},
     "output_type": "execute_result"
    }
   ],
   "source": [
    "df_crime_index"
   ]
  },
  {
   "cell_type": "code",
   "execution_count": 80,
   "id": "07f69828-7e64-4d9b-be80-053d20f255f5",
   "metadata": {},
   "outputs": [],
   "source": [
    "df_crime_hyd=Numbeo_Crime_scrape(\"https://www.numbeo.com/crime/in/Hyderabad\")"
   ]
  },
  {
   "cell_type": "code",
   "execution_count": 81,
   "id": "8138d2ab-733a-4f18-a3ef-37c15c626348",
   "metadata": {},
   "outputs": [],
   "source": [
    "df_crime_hyd=df_crime_hyd.drop(columns=[1])\n",
    "df_crime_hyd.rename(columns={0: 'Name',2:'Index',3:'Description'}, inplace=True)"
   ]
  },
  {
   "cell_type": "markdown",
   "id": "9075f7a9-fdf1-4ec4-8de8-2ff6aa2d19e7",
   "metadata": {},
   "source": [
    "## Hyderabad Crime Summary"
   ]
  },
  {
   "cell_type": "code",
   "execution_count": 77,
   "id": "7ce576d6-e0af-4f54-acad-03354450d89d",
   "metadata": {},
   "outputs": [
    {
     "data": {
      "text/html": [
       "<div>\n",
       "<style scoped>\n",
       "    .dataframe tbody tr th:only-of-type {\n",
       "        vertical-align: middle;\n",
       "    }\n",
       "\n",
       "    .dataframe tbody tr th {\n",
       "        vertical-align: top;\n",
       "    }\n",
       "\n",
       "    .dataframe thead th {\n",
       "        text-align: right;\n",
       "    }\n",
       "</style>\n",
       "<table border=\"1\" class=\"dataframe\">\n",
       "  <thead>\n",
       "    <tr style=\"text-align: right;\">\n",
       "      <th></th>\n",
       "      <th>Name</th>\n",
       "      <th>Index</th>\n",
       "      <th>Description</th>\n",
       "    </tr>\n",
       "  </thead>\n",
       "  <tbody>\n",
       "    <tr>\n",
       "      <th>0</th>\n",
       "      <td>Level of crime</td>\n",
       "      <td>42.84</td>\n",
       "      <td>Moderate</td>\n",
       "    </tr>\n",
       "    <tr>\n",
       "      <th>1</th>\n",
       "      <td>Crime increasing in the past 5 years</td>\n",
       "      <td>51.81</td>\n",
       "      <td>Moderate</td>\n",
       "    </tr>\n",
       "    <tr>\n",
       "      <th>2</th>\n",
       "      <td>Worries home broken and things stolen</td>\n",
       "      <td>41.95</td>\n",
       "      <td>Moderate</td>\n",
       "    </tr>\n",
       "    <tr>\n",
       "      <th>3</th>\n",
       "      <td>Worries being mugged or robbed</td>\n",
       "      <td>40.99</td>\n",
       "      <td>Moderate</td>\n",
       "    </tr>\n",
       "    <tr>\n",
       "      <th>4</th>\n",
       "      <td>Worries car stolen</td>\n",
       "      <td>36.19</td>\n",
       "      <td>Low</td>\n",
       "    </tr>\n",
       "    <tr>\n",
       "      <th>5</th>\n",
       "      <td>Worries things from car stolen</td>\n",
       "      <td>40.61</td>\n",
       "      <td>Moderate</td>\n",
       "    </tr>\n",
       "    <tr>\n",
       "      <th>6</th>\n",
       "      <td>Worries attacked</td>\n",
       "      <td>39.98</td>\n",
       "      <td>Low</td>\n",
       "    </tr>\n",
       "    <tr>\n",
       "      <th>7</th>\n",
       "      <td>Worries being insulted</td>\n",
       "      <td>41.11</td>\n",
       "      <td>Moderate</td>\n",
       "    </tr>\n",
       "    <tr>\n",
       "      <th>8</th>\n",
       "      <td>Worries being subject to a physical attack because of your skin color, ethnic origin, gender or religion</td>\n",
       "      <td>32.30</td>\n",
       "      <td>Low</td>\n",
       "    </tr>\n",
       "    <tr>\n",
       "      <th>9</th>\n",
       "      <td>Problem people using or dealing drugs</td>\n",
       "      <td>42.57</td>\n",
       "      <td>Moderate</td>\n",
       "    </tr>\n",
       "    <tr>\n",
       "      <th>10</th>\n",
       "      <td>Problem property crimes such as vandalism and theft</td>\n",
       "      <td>48.77</td>\n",
       "      <td>Moderate</td>\n",
       "    </tr>\n",
       "    <tr>\n",
       "      <th>11</th>\n",
       "      <td>Problem violent crimes such as assault and armed robbery</td>\n",
       "      <td>40.82</td>\n",
       "      <td>Moderate</td>\n",
       "    </tr>\n",
       "    <tr>\n",
       "      <th>12</th>\n",
       "      <td>Problem corruption and bribery</td>\n",
       "      <td>72.90</td>\n",
       "      <td>High</td>\n",
       "    </tr>\n",
       "  </tbody>\n",
       "</table>\n",
       "</div>"
      ],
      "text/plain": [
       "                                                                                                        Name  \\\n",
       "0                                                                                             Level of crime   \n",
       "1                                                                       Crime increasing in the past 5 years   \n",
       "2                                                                      Worries home broken and things stolen   \n",
       "3                                                                             Worries being mugged or robbed   \n",
       "4                                                                                         Worries car stolen   \n",
       "5                                                                             Worries things from car stolen   \n",
       "6                                                                                           Worries attacked   \n",
       "7                                                                                     Worries being insulted   \n",
       "8   Worries being subject to a physical attack because of your skin color, ethnic origin, gender or religion   \n",
       "9                                                                      Problem people using or dealing drugs   \n",
       "10                                                       Problem property crimes such as vandalism and theft   \n",
       "11                                                  Problem violent crimes such as assault and armed robbery   \n",
       "12                                                                            Problem corruption and bribery   \n",
       "\n",
       "    Index Description  \n",
       "0   42.84    Moderate  \n",
       "1   51.81    Moderate  \n",
       "2   41.95    Moderate  \n",
       "3   40.99    Moderate  \n",
       "4   36.19         Low  \n",
       "5   40.61    Moderate  \n",
       "6   39.98         Low  \n",
       "7   41.11    Moderate  \n",
       "8   32.30         Low  \n",
       "9   42.57    Moderate  \n",
       "10  48.77    Moderate  \n",
       "11  40.82    Moderate  \n",
       "12  72.90        High  "
      ]
     },
     "execution_count": 77,
     "metadata": {},
     "output_type": "execute_result"
    }
   ],
   "source": [
    "df_crime_hyd"
   ]
  },
  {
   "cell_type": "code",
   "execution_count": 82,
   "id": "a264ac9a-5edf-45e2-8e5d-2b6962ae11c5",
   "metadata": {},
   "outputs": [],
   "source": [
    "#df_crime_index.rename(columns={'Unnamed: 1': 'Index'}, inplace=True)"
   ]
  },
  {
   "cell_type": "markdown",
   "id": "696029c2-3f33-4586-8076-8615fb87ca53",
   "metadata": {},
   "source": [
    "## Overall Crime Index Hyderabad"
   ]
  },
  {
   "cell_type": "code",
   "execution_count": 79,
   "id": "c68b390a-c2e8-4e9c-a08e-c346e87e0b59",
   "metadata": {},
   "outputs": [
    {
     "data": {
      "text/html": [
       "<div>\n",
       "<style scoped>\n",
       "    .dataframe tbody tr th:only-of-type {\n",
       "        vertical-align: middle;\n",
       "    }\n",
       "\n",
       "    .dataframe tbody tr th {\n",
       "        vertical-align: top;\n",
       "    }\n",
       "\n",
       "    .dataframe thead th {\n",
       "        text-align: right;\n",
       "    }\n",
       "</style>\n",
       "<table border=\"1\" class=\"dataframe\">\n",
       "  <thead>\n",
       "    <tr style=\"text-align: right;\">\n",
       "      <th></th>\n",
       "      <th>Index</th>\n",
       "      <th>Index</th>\n",
       "    </tr>\n",
       "  </thead>\n",
       "  <tbody>\n",
       "    <tr>\n",
       "      <th>0</th>\n",
       "      <td>Crime Index:</td>\n",
       "      <td>43.22</td>\n",
       "    </tr>\n",
       "    <tr>\n",
       "      <th>1</th>\n",
       "      <td>Safety Index:</td>\n",
       "      <td>56.78</td>\n",
       "    </tr>\n",
       "  </tbody>\n",
       "</table>\n",
       "</div>"
      ],
      "text/plain": [
       "           Index  Index\n",
       "0   Crime Index:  43.22\n",
       "1  Safety Index:  56.78"
      ]
     },
     "execution_count": 79,
     "metadata": {},
     "output_type": "execute_result"
    }
   ],
   "source": [
    "df_crime_index"
   ]
  },
  {
   "cell_type": "code",
   "execution_count": 83,
   "id": "4e368f8a-6032-4a7e-8559-82ee5cd8e0b0",
   "metadata": {},
   "outputs": [],
   "source": [
    "def Numbeo_Health_scrape(url):\n",
    "    driver=webdriver.Chrome()\n",
    "    driver.get(url)\n",
    "    #driver.find_element(By.TAG_NAME,\"body\").send_keys(\"Keys.ESCAPE\");\n",
    "    \n",
    "    global df_health_index\n",
    "    table=driver.find_element(By.CLASS_NAME,'data_wide_table').get_attribute(\"outerHTML\")\n",
    "    df= pd.read_html(table)[0]\n",
    "    table2=driver.find_element(By.CLASS_NAME,'table_indices').get_attribute(\"outerHTML\")\n",
    "    df_health_index=pd.read_html(table2)[0]\n",
    "    return df"
   ]
  },
  {
   "cell_type": "code",
   "execution_count": 94,
   "id": "8ffa6a8d-67f6-4c8e-842e-f0c8becb8398",
   "metadata": {},
   "outputs": [],
   "source": [
    "df_health_blr=Numbeo_Health_scrape(\"https://www.numbeo.com/health-care/in/Bangalore\")\n"
   ]
  },
  {
   "cell_type": "code",
   "execution_count": 92,
   "id": "96019516-8ccf-4e0b-8eb6-52eeb9223adc",
   "metadata": {},
   "outputs": [],
   "source": [
    "df_health_blr=df_health_blr.drop(columns=['Satisfaction %'])\n",
    "df_health_blr.rename(columns={'Satisfaction %.1': 'Satisfaction %','Unnamed: 3':'Description'}, inplace=True)"
   ]
  },
  {
   "cell_type": "markdown",
   "id": "a7593907-0919-4e70-9b6b-8fdd79b4af90",
   "metadata": {},
   "source": [
    "## Bangalore Health-Care Summary"
   ]
  },
  {
   "cell_type": "code",
   "execution_count": 95,
   "id": "fb9cfd2f-b3d0-4771-969e-5c8e51ef6e90",
   "metadata": {},
   "outputs": [
    {
     "data": {
      "text/html": [
       "<div>\n",
       "<style scoped>\n",
       "    .dataframe tbody tr th:only-of-type {\n",
       "        vertical-align: middle;\n",
       "    }\n",
       "\n",
       "    .dataframe tbody tr th {\n",
       "        vertical-align: top;\n",
       "    }\n",
       "\n",
       "    .dataframe thead th {\n",
       "        text-align: right;\n",
       "    }\n",
       "</style>\n",
       "<table border=\"1\" class=\"dataframe\">\n",
       "  <thead>\n",
       "    <tr style=\"text-align: right;\">\n",
       "      <th></th>\n",
       "      <th>Component of health care surveyed</th>\n",
       "      <th>Satisfaction %</th>\n",
       "      <th>Description</th>\n",
       "    </tr>\n",
       "  </thead>\n",
       "  <tbody>\n",
       "    <tr>\n",
       "      <th>0</th>\n",
       "      <td>Skill and competency of medical staff</td>\n",
       "      <td>72.54</td>\n",
       "      <td>High</td>\n",
       "    </tr>\n",
       "    <tr>\n",
       "      <th>1</th>\n",
       "      <td>Speed in completing examinations and reports</td>\n",
       "      <td>71.07</td>\n",
       "      <td>High</td>\n",
       "    </tr>\n",
       "    <tr>\n",
       "      <th>2</th>\n",
       "      <td>Equipment for modern diagnosis and treatment</td>\n",
       "      <td>75.59</td>\n",
       "      <td>High</td>\n",
       "    </tr>\n",
       "    <tr>\n",
       "      <th>3</th>\n",
       "      <td>Accuracy and completeness in filling out reports</td>\n",
       "      <td>72.45</td>\n",
       "      <td>High</td>\n",
       "    </tr>\n",
       "    <tr>\n",
       "      <th>4</th>\n",
       "      <td>Friendliness and courtesy of the staff</td>\n",
       "      <td>67.84</td>\n",
       "      <td>High</td>\n",
       "    </tr>\n",
       "    <tr>\n",
       "      <th>5</th>\n",
       "      <td>Satisfaction with responsiveness (waitings) in medical institutions</td>\n",
       "      <td>57.70</td>\n",
       "      <td>Moderate</td>\n",
       "    </tr>\n",
       "    <tr>\n",
       "      <th>6</th>\n",
       "      <td>Satisfaction with cost to you</td>\n",
       "      <td>47.86</td>\n",
       "      <td>Moderate</td>\n",
       "    </tr>\n",
       "    <tr>\n",
       "      <th>7</th>\n",
       "      <td>Convenience of location for you</td>\n",
       "      <td>72.64</td>\n",
       "      <td>High</td>\n",
       "    </tr>\n",
       "  </tbody>\n",
       "</table>\n",
       "</div>"
      ],
      "text/plain": [
       "                                     Component of health care surveyed  \\\n",
       "0                                Skill and competency of medical staff   \n",
       "1                         Speed in completing examinations and reports   \n",
       "2                         Equipment for modern diagnosis and treatment   \n",
       "3                     Accuracy and completeness in filling out reports   \n",
       "4                               Friendliness and courtesy of the staff   \n",
       "5  Satisfaction with responsiveness (waitings) in medical institutions   \n",
       "6                                        Satisfaction with cost to you   \n",
       "7                                      Convenience of location for you   \n",
       "\n",
       "   Satisfaction % Description  \n",
       "0           72.54        High  \n",
       "1           71.07        High  \n",
       "2           75.59        High  \n",
       "3           72.45        High  \n",
       "4           67.84        High  \n",
       "5           57.70    Moderate  \n",
       "6           47.86    Moderate  \n",
       "7           72.64        High  "
      ]
     },
     "execution_count": 95,
     "metadata": {},
     "output_type": "execute_result"
    }
   ],
   "source": [
    "df_health_blr"
   ]
  },
  {
   "cell_type": "code",
   "execution_count": 97,
   "id": "3ff2bd49-dee3-48a4-ba7a-06df40909328",
   "metadata": {},
   "outputs": [],
   "source": [
    "df_health_index.rename(columns={'Unnamed: 1': 'Value'}, inplace=True)"
   ]
  },
  {
   "cell_type": "markdown",
   "id": "b9f41e4e-3654-4135-91a0-12cd54e5766e",
   "metadata": {},
   "source": [
    "## Overall Health Index Bangalore"
   ]
  },
  {
   "cell_type": "code",
   "execution_count": 98,
   "id": "b2bd1209-0227-442b-beb2-3c0cb1165c44",
   "metadata": {},
   "outputs": [
    {
     "data": {
      "text/html": [
       "<div>\n",
       "<style scoped>\n",
       "    .dataframe tbody tr th:only-of-type {\n",
       "        vertical-align: middle;\n",
       "    }\n",
       "\n",
       "    .dataframe tbody tr th {\n",
       "        vertical-align: top;\n",
       "    }\n",
       "\n",
       "    .dataframe thead th {\n",
       "        text-align: right;\n",
       "    }\n",
       "</style>\n",
       "<table border=\"1\" class=\"dataframe\">\n",
       "  <thead>\n",
       "    <tr style=\"text-align: right;\">\n",
       "      <th></th>\n",
       "      <th>Index</th>\n",
       "      <th>Index</th>\n",
       "    </tr>\n",
       "  </thead>\n",
       "  <tbody>\n",
       "    <tr>\n",
       "      <th>0</th>\n",
       "      <td>Health Care System Index:</td>\n",
       "      <td>65.06</td>\n",
       "    </tr>\n",
       "  </tbody>\n",
       "</table>\n",
       "</div>"
      ],
      "text/plain": [
       "                       Index  Index\n",
       "0  Health Care System Index:  65.06"
      ]
     },
     "execution_count": 98,
     "metadata": {},
     "output_type": "execute_result"
    }
   ],
   "source": [
    "df_health_index"
   ]
  },
  {
   "cell_type": "code",
   "execution_count": 105,
   "id": "72bf2ffd-b01e-43a2-a302-554da93a8016",
   "metadata": {},
   "outputs": [],
   "source": [
    "df_health_hyd=Numbeo_Health_scrape(\"https://www.numbeo.com/health-care/in/Hyderabad\")"
   ]
  },
  {
   "cell_type": "code",
   "execution_count": 106,
   "id": "ed0e5b8d-ed51-4520-8eab-1b28b8ef7ac6",
   "metadata": {},
   "outputs": [],
   "source": [
    "df_health_hyd=df_health_hyd.drop(columns=['Satisfaction %'])\n",
    "df_health_hyd.rename(columns={'Satisfaction %.1': 'Satisfaction %','Unnamed: 3':'Description'}, inplace=True)"
   ]
  },
  {
   "cell_type": "markdown",
   "id": "9eba35fe-22a0-43cf-bfb7-3a7914785d8f",
   "metadata": {},
   "source": [
    "## Hyderabad Health Care Summary"
   ]
  },
  {
   "cell_type": "code",
   "execution_count": 102,
   "id": "a732b218-09d7-440e-a758-c72fbefab367",
   "metadata": {},
   "outputs": [
    {
     "data": {
      "text/html": [
       "<div>\n",
       "<style scoped>\n",
       "    .dataframe tbody tr th:only-of-type {\n",
       "        vertical-align: middle;\n",
       "    }\n",
       "\n",
       "    .dataframe tbody tr th {\n",
       "        vertical-align: top;\n",
       "    }\n",
       "\n",
       "    .dataframe thead th {\n",
       "        text-align: right;\n",
       "    }\n",
       "</style>\n",
       "<table border=\"1\" class=\"dataframe\">\n",
       "  <thead>\n",
       "    <tr style=\"text-align: right;\">\n",
       "      <th></th>\n",
       "      <th>Component of health care surveyed</th>\n",
       "      <th>Satisfaction %</th>\n",
       "      <th>Description</th>\n",
       "    </tr>\n",
       "  </thead>\n",
       "  <tbody>\n",
       "    <tr>\n",
       "      <th>0</th>\n",
       "      <td>Skill and competency of medical staff</td>\n",
       "      <td>74.86</td>\n",
       "      <td>High</td>\n",
       "    </tr>\n",
       "    <tr>\n",
       "      <th>1</th>\n",
       "      <td>Speed in completing examinations and reports</td>\n",
       "      <td>70.74</td>\n",
       "      <td>High</td>\n",
       "    </tr>\n",
       "    <tr>\n",
       "      <th>2</th>\n",
       "      <td>Equipment for modern diagnosis and treatment</td>\n",
       "      <td>75.95</td>\n",
       "      <td>High</td>\n",
       "    </tr>\n",
       "    <tr>\n",
       "      <th>3</th>\n",
       "      <td>Accuracy and completeness in filling out reports</td>\n",
       "      <td>72.68</td>\n",
       "      <td>High</td>\n",
       "    </tr>\n",
       "    <tr>\n",
       "      <th>4</th>\n",
       "      <td>Friendliness and courtesy of the staff</td>\n",
       "      <td>61.89</td>\n",
       "      <td>High</td>\n",
       "    </tr>\n",
       "    <tr>\n",
       "      <th>5</th>\n",
       "      <td>Satisfaction with responsiveness (waitings) in medical institutions</td>\n",
       "      <td>54.97</td>\n",
       "      <td>Moderate</td>\n",
       "    </tr>\n",
       "    <tr>\n",
       "      <th>6</th>\n",
       "      <td>Satisfaction with cost to you</td>\n",
       "      <td>51.64</td>\n",
       "      <td>Moderate</td>\n",
       "    </tr>\n",
       "    <tr>\n",
       "      <th>7</th>\n",
       "      <td>Convenience of location for you</td>\n",
       "      <td>74.59</td>\n",
       "      <td>High</td>\n",
       "    </tr>\n",
       "  </tbody>\n",
       "</table>\n",
       "</div>"
      ],
      "text/plain": [
       "                                     Component of health care surveyed  \\\n",
       "0                                Skill and competency of medical staff   \n",
       "1                         Speed in completing examinations and reports   \n",
       "2                         Equipment for modern diagnosis and treatment   \n",
       "3                     Accuracy and completeness in filling out reports   \n",
       "4                               Friendliness and courtesy of the staff   \n",
       "5  Satisfaction with responsiveness (waitings) in medical institutions   \n",
       "6                                        Satisfaction with cost to you   \n",
       "7                                      Convenience of location for you   \n",
       "\n",
       "   Satisfaction % Description  \n",
       "0           74.86        High  \n",
       "1           70.74        High  \n",
       "2           75.95        High  \n",
       "3           72.68        High  \n",
       "4           61.89        High  \n",
       "5           54.97    Moderate  \n",
       "6           51.64    Moderate  \n",
       "7           74.59        High  "
      ]
     },
     "execution_count": 102,
     "metadata": {},
     "output_type": "execute_result"
    }
   ],
   "source": [
    "df_health_hyd"
   ]
  },
  {
   "cell_type": "code",
   "execution_count": 103,
   "id": "d24031d8-14b2-43c1-98e7-114d605a1b1f",
   "metadata": {},
   "outputs": [],
   "source": [
    "df_health_index.rename(columns={'Unnamed: 1': 'Value'}, inplace=True)"
   ]
  },
  {
   "cell_type": "markdown",
   "id": "406782e1-e8d3-455d-a748-b3a716b39bd5",
   "metadata": {},
   "source": [
    "## Overall Health Index Hyderabad"
   ]
  },
  {
   "cell_type": "code",
   "execution_count": 104,
   "id": "7fc27d1d-7012-471a-830f-b276cc2fda23",
   "metadata": {},
   "outputs": [
    {
     "data": {
      "text/html": [
       "<div>\n",
       "<style scoped>\n",
       "    .dataframe tbody tr th:only-of-type {\n",
       "        vertical-align: middle;\n",
       "    }\n",
       "\n",
       "    .dataframe tbody tr th {\n",
       "        vertical-align: top;\n",
       "    }\n",
       "\n",
       "    .dataframe thead th {\n",
       "        text-align: right;\n",
       "    }\n",
       "</style>\n",
       "<table border=\"1\" class=\"dataframe\">\n",
       "  <thead>\n",
       "    <tr style=\"text-align: right;\">\n",
       "      <th></th>\n",
       "      <th>Index</th>\n",
       "      <th>Value</th>\n",
       "    </tr>\n",
       "  </thead>\n",
       "  <tbody>\n",
       "    <tr>\n",
       "      <th>0</th>\n",
       "      <td>Health Care System Index:</td>\n",
       "      <td>65.44</td>\n",
       "    </tr>\n",
       "  </tbody>\n",
       "</table>\n",
       "</div>"
      ],
      "text/plain": [
       "                       Index  Value\n",
       "0  Health Care System Index:  65.44"
      ]
     },
     "execution_count": 104,
     "metadata": {},
     "output_type": "execute_result"
    }
   ],
   "source": [
    "df_health_index"
   ]
  },
  {
   "cell_type": "code",
   "execution_count": 109,
   "id": "9f9485d1-4b8f-4a62-a8e3-9554edcbfeda",
   "metadata": {},
   "outputs": [],
   "source": [
    "def Numbeo_Health_scrape(url):\n",
    "    driver=webdriver.Chrome()\n",
    "    driver.get(url)\n",
    "    #driver.find_element(By.TAG_NAME,\"body\").send_keys(\"Keys.ESCAPE\");\n",
    "    \n",
    "    global df_clean_index\n",
    "    table=driver.find_elements(By.CLASS_NAME,'data_wide_table')[0].get_attribute(\"outerHTML\")\n",
    "    df= pd.read_html(table)[0]\n",
    "    table2=driver.find_elements(By.CLASS_NAME,'data_wide_table')[1].get_attribute(\"outerHTML\")\n",
    "    df_clean_index=pd.read_html(table2)[0]\n",
    "    return df"
   ]
  },
  {
   "cell_type": "code",
   "execution_count": 119,
   "id": "8ccfe1a1-09b6-4357-8fea-91fb9dc8bc06",
   "metadata": {},
   "outputs": [],
   "source": [
    "df_Pollution_blr=Numbeo_Health_scrape(\"https://www.numbeo.com/pollution/in/Bangalore\")"
   ]
  },
  {
   "cell_type": "code",
   "execution_count": 115,
   "id": "1824265e-89b5-4665-84e6-dfa6b0e0ac7e",
   "metadata": {},
   "outputs": [],
   "source": [
    "df_Pollution_blr=df_Pollution_blr.drop(columns=[1])\n",
    "df_Pollution_blr.rename(columns={0: 'Name',2: 'Index',3:'Description'}, inplace=True)"
   ]
  },
  {
   "cell_type": "markdown",
   "id": "e3760e8f-6edf-466a-9e20-8593bb022bbf",
   "metadata": {},
   "source": [
    "## Bangalore Pollution Stats"
   ]
  },
  {
   "cell_type": "code",
   "execution_count": 116,
   "id": "e8bc3bea-2df9-45fd-a6c0-91307c9143ee",
   "metadata": {},
   "outputs": [
    {
     "data": {
      "text/html": [
       "<div>\n",
       "<style scoped>\n",
       "    .dataframe tbody tr th:only-of-type {\n",
       "        vertical-align: middle;\n",
       "    }\n",
       "\n",
       "    .dataframe tbody tr th {\n",
       "        vertical-align: top;\n",
       "    }\n",
       "\n",
       "    .dataframe thead th {\n",
       "        text-align: right;\n",
       "    }\n",
       "</style>\n",
       "<table border=\"1\" class=\"dataframe\">\n",
       "  <thead>\n",
       "    <tr style=\"text-align: right;\">\n",
       "      <th></th>\n",
       "      <th>Name</th>\n",
       "      <th>Index</th>\n",
       "      <th>Description</th>\n",
       "    </tr>\n",
       "  </thead>\n",
       "  <tbody>\n",
       "    <tr>\n",
       "      <th>0</th>\n",
       "      <td>Air Pollution</td>\n",
       "      <td>72.96</td>\n",
       "      <td>High</td>\n",
       "    </tr>\n",
       "    <tr>\n",
       "      <th>1</th>\n",
       "      <td>Drinking Water Pollution and Inaccessibility</td>\n",
       "      <td>63.72</td>\n",
       "      <td>High</td>\n",
       "    </tr>\n",
       "    <tr>\n",
       "      <th>2</th>\n",
       "      <td>Dissatisfaction with Garbage Disposal</td>\n",
       "      <td>77.61</td>\n",
       "      <td>High</td>\n",
       "    </tr>\n",
       "    <tr>\n",
       "      <th>3</th>\n",
       "      <td>Dirty and Untidy</td>\n",
       "      <td>72.51</td>\n",
       "      <td>High</td>\n",
       "    </tr>\n",
       "    <tr>\n",
       "      <th>4</th>\n",
       "      <td>Noise and Light Pollution</td>\n",
       "      <td>66.38</td>\n",
       "      <td>High</td>\n",
       "    </tr>\n",
       "    <tr>\n",
       "      <th>5</th>\n",
       "      <td>Water Pollution</td>\n",
       "      <td>79.20</td>\n",
       "      <td>High</td>\n",
       "    </tr>\n",
       "    <tr>\n",
       "      <th>6</th>\n",
       "      <td>Dissatisfaction with Spending Time in the City</td>\n",
       "      <td>68.55</td>\n",
       "      <td>High</td>\n",
       "    </tr>\n",
       "    <tr>\n",
       "      <th>7</th>\n",
       "      <td>Dissatisfaction with Green and Parks in the City</td>\n",
       "      <td>51.76</td>\n",
       "      <td>Moderate</td>\n",
       "    </tr>\n",
       "  </tbody>\n",
       "</table>\n",
       "</div>"
      ],
      "text/plain": [
       "                                               Name  Index Description\n",
       "0                                     Air Pollution  72.96        High\n",
       "1      Drinking Water Pollution and Inaccessibility  63.72        High\n",
       "2             Dissatisfaction with Garbage Disposal  77.61        High\n",
       "3                                  Dirty and Untidy  72.51        High\n",
       "4                         Noise and Light Pollution  66.38        High\n",
       "5                                   Water Pollution  79.20        High\n",
       "6    Dissatisfaction with Spending Time in the City  68.55        High\n",
       "7  Dissatisfaction with Green and Parks in the City  51.76    Moderate"
      ]
     },
     "execution_count": 116,
     "metadata": {},
     "output_type": "execute_result"
    }
   ],
   "source": [
    "df_Pollution_blr"
   ]
  },
  {
   "cell_type": "code",
   "execution_count": 117,
   "id": "36aa945d-b018-4dcf-a18d-414ac6434ac0",
   "metadata": {},
   "outputs": [],
   "source": [
    "df_clean_index=df_clean_index.drop(columns=[1])\n",
    "df_clean_index.rename(columns={0: 'Name',2: 'Index',3:'Description'}, inplace=True)"
   ]
  },
  {
   "cell_type": "markdown",
   "id": "142f4bbc-fcce-4390-862d-e0d957ae956a",
   "metadata": {},
   "source": [
    "## Bangalore Purity Stats"
   ]
  },
  {
   "cell_type": "code",
   "execution_count": 118,
   "id": "d3854679-9810-4827-a2a3-690698fe127a",
   "metadata": {},
   "outputs": [
    {
     "data": {
      "text/html": [
       "<div>\n",
       "<style scoped>\n",
       "    .dataframe tbody tr th:only-of-type {\n",
       "        vertical-align: middle;\n",
       "    }\n",
       "\n",
       "    .dataframe tbody tr th {\n",
       "        vertical-align: top;\n",
       "    }\n",
       "\n",
       "    .dataframe thead th {\n",
       "        text-align: right;\n",
       "    }\n",
       "</style>\n",
       "<table border=\"1\" class=\"dataframe\">\n",
       "  <thead>\n",
       "    <tr style=\"text-align: right;\">\n",
       "      <th></th>\n",
       "      <th>Name</th>\n",
       "      <th>Index</th>\n",
       "      <th>Description</th>\n",
       "    </tr>\n",
       "  </thead>\n",
       "  <tbody>\n",
       "    <tr>\n",
       "      <th>0</th>\n",
       "      <td>Air quality</td>\n",
       "      <td>27.04</td>\n",
       "      <td>Low</td>\n",
       "    </tr>\n",
       "    <tr>\n",
       "      <th>1</th>\n",
       "      <td>Drinking Water Quality and Accessibility</td>\n",
       "      <td>36.28</td>\n",
       "      <td>Low</td>\n",
       "    </tr>\n",
       "    <tr>\n",
       "      <th>2</th>\n",
       "      <td>Garbage Disposal Satisfaction</td>\n",
       "      <td>22.39</td>\n",
       "      <td>Low</td>\n",
       "    </tr>\n",
       "    <tr>\n",
       "      <th>3</th>\n",
       "      <td>Clean and Tidy</td>\n",
       "      <td>27.49</td>\n",
       "      <td>Low</td>\n",
       "    </tr>\n",
       "    <tr>\n",
       "      <th>4</th>\n",
       "      <td>Quiet and No Problem with Night Lights</td>\n",
       "      <td>33.62</td>\n",
       "      <td>Low</td>\n",
       "    </tr>\n",
       "    <tr>\n",
       "      <th>5</th>\n",
       "      <td>Water Quality</td>\n",
       "      <td>20.80</td>\n",
       "      <td>Low</td>\n",
       "    </tr>\n",
       "    <tr>\n",
       "      <th>6</th>\n",
       "      <td>Comfortable to Spend Time in the City</td>\n",
       "      <td>31.45</td>\n",
       "      <td>Low</td>\n",
       "    </tr>\n",
       "    <tr>\n",
       "      <th>7</th>\n",
       "      <td>Quality of Green and Parks</td>\n",
       "      <td>48.24</td>\n",
       "      <td>Moderate</td>\n",
       "    </tr>\n",
       "  </tbody>\n",
       "</table>\n",
       "</div>"
      ],
      "text/plain": [
       "                                       Name  Index Description\n",
       "0                               Air quality  27.04         Low\n",
       "1  Drinking Water Quality and Accessibility  36.28         Low\n",
       "2             Garbage Disposal Satisfaction  22.39         Low\n",
       "3                            Clean and Tidy  27.49         Low\n",
       "4    Quiet and No Problem with Night Lights  33.62         Low\n",
       "5                             Water Quality  20.80         Low\n",
       "6     Comfortable to Spend Time in the City  31.45         Low\n",
       "7                Quality of Green and Parks  48.24    Moderate"
      ]
     },
     "execution_count": 118,
     "metadata": {},
     "output_type": "execute_result"
    }
   ],
   "source": [
    "df_clean_index"
   ]
  },
  {
   "cell_type": "code",
   "execution_count": 125,
   "id": "a577b4b4-2e37-437d-9dd3-fb00949a9f46",
   "metadata": {},
   "outputs": [],
   "source": [
    "df_Pollution_hyd=Numbeo_Health_scrape(\"https://www.numbeo.com/pollution/in/Hyderabad\")"
   ]
  },
  {
   "cell_type": "code",
   "execution_count": 121,
   "id": "1eb67448-f83c-469a-91e8-c30ebe96abb1",
   "metadata": {},
   "outputs": [],
   "source": [
    "df_Pollution_hyd=df_Pollution_hyd.drop(columns=[1])\n",
    "df_Pollution_hyd.rename(columns={0: 'Name',2: 'Index',3:'Description'}, inplace=True)"
   ]
  },
  {
   "cell_type": "markdown",
   "id": "7b372d67-ba2f-488c-b13a-c1447f4757a3",
   "metadata": {},
   "source": [
    "## Hyderabad Pollution Stats"
   ]
  },
  {
   "cell_type": "code",
   "execution_count": 123,
   "id": "c2f3f5d4-f39a-4b8b-be09-4d9407f85480",
   "metadata": {},
   "outputs": [
    {
     "data": {
      "text/html": [
       "<div>\n",
       "<style scoped>\n",
       "    .dataframe tbody tr th:only-of-type {\n",
       "        vertical-align: middle;\n",
       "    }\n",
       "\n",
       "    .dataframe tbody tr th {\n",
       "        vertical-align: top;\n",
       "    }\n",
       "\n",
       "    .dataframe thead th {\n",
       "        text-align: right;\n",
       "    }\n",
       "</style>\n",
       "<table border=\"1\" class=\"dataframe\">\n",
       "  <thead>\n",
       "    <tr style=\"text-align: right;\">\n",
       "      <th></th>\n",
       "      <th>Name</th>\n",
       "      <th>Index</th>\n",
       "      <th>Description</th>\n",
       "    </tr>\n",
       "  </thead>\n",
       "  <tbody>\n",
       "    <tr>\n",
       "      <th>0</th>\n",
       "      <td>Air Pollution</td>\n",
       "      <td>68.39</td>\n",
       "      <td>High</td>\n",
       "    </tr>\n",
       "    <tr>\n",
       "      <th>1</th>\n",
       "      <td>Drinking Water Pollution and Inaccessibility</td>\n",
       "      <td>54.65</td>\n",
       "      <td>Moderate</td>\n",
       "    </tr>\n",
       "    <tr>\n",
       "      <th>2</th>\n",
       "      <td>Dissatisfaction with Garbage Disposal</td>\n",
       "      <td>66.27</td>\n",
       "      <td>High</td>\n",
       "    </tr>\n",
       "    <tr>\n",
       "      <th>3</th>\n",
       "      <td>Dirty and Untidy</td>\n",
       "      <td>64.83</td>\n",
       "      <td>High</td>\n",
       "    </tr>\n",
       "    <tr>\n",
       "      <th>4</th>\n",
       "      <td>Noise and Light Pollution</td>\n",
       "      <td>60.53</td>\n",
       "      <td>High</td>\n",
       "    </tr>\n",
       "    <tr>\n",
       "      <th>5</th>\n",
       "      <td>Water Pollution</td>\n",
       "      <td>70.25</td>\n",
       "      <td>High</td>\n",
       "    </tr>\n",
       "    <tr>\n",
       "      <th>6</th>\n",
       "      <td>Dissatisfaction with Spending Time in the City</td>\n",
       "      <td>63.25</td>\n",
       "      <td>High</td>\n",
       "    </tr>\n",
       "    <tr>\n",
       "      <th>7</th>\n",
       "      <td>Dissatisfaction with Green and Parks in the City</td>\n",
       "      <td>56.95</td>\n",
       "      <td>Moderate</td>\n",
       "    </tr>\n",
       "  </tbody>\n",
       "</table>\n",
       "</div>"
      ],
      "text/plain": [
       "                                               Name  Index Description\n",
       "0                                     Air Pollution  68.39        High\n",
       "1      Drinking Water Pollution and Inaccessibility  54.65    Moderate\n",
       "2             Dissatisfaction with Garbage Disposal  66.27        High\n",
       "3                                  Dirty and Untidy  64.83        High\n",
       "4                         Noise and Light Pollution  60.53        High\n",
       "5                                   Water Pollution  70.25        High\n",
       "6    Dissatisfaction with Spending Time in the City  63.25        High\n",
       "7  Dissatisfaction with Green and Parks in the City  56.95    Moderate"
      ]
     },
     "execution_count": 123,
     "metadata": {},
     "output_type": "execute_result"
    }
   ],
   "source": [
    "df_Pollution_hyd"
   ]
  },
  {
   "cell_type": "markdown",
   "id": "e89a461c-3e4e-4f1e-8e31-32f8a304a046",
   "metadata": {},
   "source": [
    "## Hyderabad Purity Stats"
   ]
  },
  {
   "cell_type": "code",
   "execution_count": 122,
   "id": "f790027c-d06e-4743-8a48-d41d5c351005",
   "metadata": {},
   "outputs": [],
   "source": [
    "df_clean_index=df_clean_index.drop(columns=[1])\n",
    "df_clean_index.rename(columns={0: 'Name',2: 'Index',3:'Description'}, inplace=True)"
   ]
  },
  {
   "cell_type": "code",
   "execution_count": 124,
   "id": "d7163355-4a73-46f2-9eec-8b4400283288",
   "metadata": {},
   "outputs": [
    {
     "data": {
      "text/html": [
       "<div>\n",
       "<style scoped>\n",
       "    .dataframe tbody tr th:only-of-type {\n",
       "        vertical-align: middle;\n",
       "    }\n",
       "\n",
       "    .dataframe tbody tr th {\n",
       "        vertical-align: top;\n",
       "    }\n",
       "\n",
       "    .dataframe thead th {\n",
       "        text-align: right;\n",
       "    }\n",
       "</style>\n",
       "<table border=\"1\" class=\"dataframe\">\n",
       "  <thead>\n",
       "    <tr style=\"text-align: right;\">\n",
       "      <th></th>\n",
       "      <th>Name</th>\n",
       "      <th>Index</th>\n",
       "      <th>Description</th>\n",
       "    </tr>\n",
       "  </thead>\n",
       "  <tbody>\n",
       "    <tr>\n",
       "      <th>0</th>\n",
       "      <td>Air quality</td>\n",
       "      <td>31.61</td>\n",
       "      <td>Low</td>\n",
       "    </tr>\n",
       "    <tr>\n",
       "      <th>1</th>\n",
       "      <td>Drinking Water Quality and Accessibility</td>\n",
       "      <td>45.35</td>\n",
       "      <td>Moderate</td>\n",
       "    </tr>\n",
       "    <tr>\n",
       "      <th>2</th>\n",
       "      <td>Garbage Disposal Satisfaction</td>\n",
       "      <td>33.73</td>\n",
       "      <td>Low</td>\n",
       "    </tr>\n",
       "    <tr>\n",
       "      <th>3</th>\n",
       "      <td>Clean and Tidy</td>\n",
       "      <td>35.17</td>\n",
       "      <td>Low</td>\n",
       "    </tr>\n",
       "    <tr>\n",
       "      <th>4</th>\n",
       "      <td>Quiet and No Problem with Night Lights</td>\n",
       "      <td>39.47</td>\n",
       "      <td>Low</td>\n",
       "    </tr>\n",
       "    <tr>\n",
       "      <th>5</th>\n",
       "      <td>Water Quality</td>\n",
       "      <td>29.75</td>\n",
       "      <td>Low</td>\n",
       "    </tr>\n",
       "    <tr>\n",
       "      <th>6</th>\n",
       "      <td>Comfortable to Spend Time in the City</td>\n",
       "      <td>36.75</td>\n",
       "      <td>Low</td>\n",
       "    </tr>\n",
       "    <tr>\n",
       "      <th>7</th>\n",
       "      <td>Quality of Green and Parks</td>\n",
       "      <td>43.05</td>\n",
       "      <td>Moderate</td>\n",
       "    </tr>\n",
       "  </tbody>\n",
       "</table>\n",
       "</div>"
      ],
      "text/plain": [
       "                                       Name  Index Description\n",
       "0                               Air quality  31.61         Low\n",
       "1  Drinking Water Quality and Accessibility  45.35    Moderate\n",
       "2             Garbage Disposal Satisfaction  33.73         Low\n",
       "3                            Clean and Tidy  35.17         Low\n",
       "4    Quiet and No Problem with Night Lights  39.47         Low\n",
       "5                             Water Quality  29.75         Low\n",
       "6     Comfortable to Spend Time in the City  36.75         Low\n",
       "7                Quality of Green and Parks  43.05    Moderate"
      ]
     },
     "execution_count": 124,
     "metadata": {},
     "output_type": "execute_result"
    }
   ],
   "source": [
    "df_clean_index"
   ]
  },
  {
   "cell_type": "code",
   "execution_count": null,
   "id": "58043c19-1443-4672-8cb9-aea71509aebd",
   "metadata": {},
   "outputs": [],
   "source": []
  }
 ],
 "metadata": {
  "kernelspec": {
   "display_name": "Python 3 (ipykernel)",
   "language": "python",
   "name": "python3"
  },
  "language_info": {
   "codemirror_mode": {
    "name": "ipython",
    "version": 3
   },
   "file_extension": ".py",
   "mimetype": "text/x-python",
   "name": "python",
   "nbconvert_exporter": "python",
   "pygments_lexer": "ipython3",
   "version": "3.11.7"
  }
 },
 "nbformat": 4,
 "nbformat_minor": 5
}
